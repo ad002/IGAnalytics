{
 "cells": [
  {
   "cell_type": "code",
   "execution_count": 2,
   "metadata": {},
   "outputs": [
    {
     "name": "stdout",
     "output_type": "stream",
     "text": [
      "Imageio: 'ffmpeg.linux32' was not found on your computer; downloading it now.\n",
      "Try 1. Download from https://github.com/imageio/imageio-binaries/raw/master/ffmpeg/ffmpeg.linux32 (24.5 MB)\n",
      "Downloading: 8192/25708248 bytes (0.0270336/25708248 bytes (1.1516096/25708248 bytes (2.0860160/25708248 bytes (3.31204224/25708248 bytes (4.7%1581056/25708248 bytes (6.1%1908736/25708248 bytes (7.4%2236416/25708248 bytes (8.7%2596864/25708248 bytes (10.12990080/25708248 bytes (11.63284992/25708248 bytes (12.83661824/25708248 bytes (14.24038656/25708248 bytes (15.74382720/25708248 bytes (17.04694016/25708248 bytes (18.35046272/25708248 bytes (19.65455872/25708248 bytes (21.25799936/25708248 bytes (22.66144000/25708248 bytes (23.96537216/25708248 bytes (25.46897664/25708248 bytes (26.87307264/25708248 bytes (28.47700480/25708248 bytes (30.08077312/25708248 bytes (31.48470528/25708248 bytes (32.98847360/25708248 bytes (34.49175040/25708248 bytes (35.79576448/25708248 bytes (37.39945088/25708248 bytes (38.710240000/25708248 bytes (39.8%10567680/25708248 bytes (41.1%10944512/25708248 bytes (42.6%11288576/25708248 bytes (43.9%11599872/25708248 bytes (45.1%11935744/25708248 bytes (46.4%12345344/25708248 bytes (48.0%12566528/25708248 bytes (48.9%12910592/25708248 bytes (50.2%13287424/25708248 bytes (51.7%13729792/25708248 bytes (53.4%14106624/25708248 bytes (54.9%14581760/25708248 bytes (56.7%15040512/25708248 bytes (58.5%15302656/25708248 bytes (59.5%15695872/25708248 bytes (61.1%16154624/25708248 bytes (62.8%16515072/25708248 bytes (64.2%16859136/25708248 bytes (65.6%17301504/25708248 bytes (67.3%17661952/25708248 bytes (68.7%18169856/25708248 bytes (70.7%18628608/25708248 bytes (72.5%19038208/25708248 bytes (74.1%19447808/25708248 bytes (75.6%19791872/25708248 bytes (77.0%20135936/25708248 bytes (78.3%20480000/25708248 bytes (79.7%20873216/25708248 bytes (81.2%21225472/25708248 bytes (82.6%21602304/25708248 bytes (84.0%21864448/25708248 bytes (85.0%22216704/25708248 bytes (86.4%22593536/25708248 bytes (87.9%22970368/25708248 bytes (89.4%23379968/25708248 bytes (90.9%23642112/25708248 bytes (92.0%23986176/25708248 bytes (93.3%24313856/25708248 bytes (94.6%24567808/25708248 bytes (95.6%24838144/25708248 bytes (96.6%25116672/25708248 bytes (97.7%25460736/25708248 bytes (99.0%25708248/25708248 bytes (100.0%)\n",
      "  Done\n",
      "File saved as /home/pi/.imageio/ffmpeg/ffmpeg.linux32.\n"
     ]
    }
   ],
   "source": [
    "import imageio\n",
    "imageio.plugins.ffmpeg.download()"
   ]
  },
  {
   "cell_type": "code",
   "execution_count": 6,
   "metadata": {},
   "outputs": [
    {
     "name": "stdout",
     "output_type": "stream",
     "text": [
      "Request return 429 error!\n",
      "{'message': 'Please wait a few minutes before you try again.', 'status': 'fail'}\n",
      "Request return 404 error!\n",
      "Login success!\n",
      "\n"
     ]
    },
    {
     "data": {
      "text/plain": [
       "True"
      ]
     },
     "execution_count": 6,
     "metadata": {},
     "output_type": "execute_result"
    }
   ],
   "source": [
    "#Logging in into Instagram using the API\n",
    "from InstagramAPI import InstagramAPI\n",
    "\n",
    "username = \"foodofhamburg\"\n",
    "InstagramAPI = InstagramAPI(username,\"PASSWORD\" )\n",
    "InstagramAPI.login()"
   ]
  },
  {
   "cell_type": "code",
   "execution_count": 18,
   "metadata": {
    "scrolled": true
   },
   "outputs": [],
   "source": [
    "InstagramAPI.getProfileData()\n",
    "#Get data in json Format\n",
    "result = InstagramAPI.LastJson"
   ]
  },
  {
   "cell_type": "code",
   "execution_count": 8,
   "metadata": {},
   "outputs": [
    {
     "name": "stdout",
     "output_type": "stream",
     "text": [
      "ok\n",
      "Food\n"
     ]
    }
   ],
   "source": [
    "#access data via the normal key/value way.\n",
    "print (result['status'])\n",
    "print (result['user']['full_name'])\n"
   ]
  },
  {
   "cell_type": "markdown",
   "metadata": {},
   "source": [
    "Getting and viewing Instagram Timeline \n",
    "\n",
    "As similar to previous request, we will use LastJson() to view the result\n",
    "We can see that it holds a list in a key called 'items'\n",
    "Each Element in that List holds information abput a specific post in the timeline, including elements such as:\n",
    "[text] #holds atext value for the  caption under the post incl. hashtags \n",
    "[Likes] #number of likes a post has \n",
    "[created_at] #date post created\n",
    "[comments] #post comments \n",
    "[image-versions] #holds links to the actual JPG file, which we will use to display it on our Jupyter notebook "
   ]
  },
  {
   "cell_type": "markdown",
   "metadata": {},
   "source": [
    "Get your most liked posts \n",
    "\n",
    "First we have to get all the posts in the profile, then sort them by number of likes \n",
    "\n",
    "Get all User Posts "
   ]
  },
  {
   "cell_type": "code",
   "execution_count": null,
   "metadata": {
    "scrolled": true
   },
   "outputs": [],
   "source": [
    "import time \n",
    "myposts=[]\n",
    "has_more_posts=True\n",
    "max_id=\"\"\n",
    "\n",
    "while has_more_posts:\n",
    "    InstagramAPI.getSelfUserFeed(maxid=max_id)\n",
    "    if InstagramAPI.LastJson['more_available'] is not True:\n",
    "        has_more_posts=False #Stop condition\n",
    "        print(\"Stopped\")\n",
    "        \n",
    "        max_id = InstagramAPI.LastJson.get('next_max_id', '')\n",
    "        myposts.extend(InstagramAPI.LastJson['items']) #merge lists\n",
    "        time.sleep(2) #Slows the scrpit down to avoid flooding the servers\n",
    "\n",
    "        print (len(myposts))"
   ]
  },
  {
   "cell_type": "markdown",
   "metadata": {},
   "source": [
    "Getting all followers \n"
   ]
  },
  {
   "cell_type": "code",
   "execution_count": null,
   "metadata": {},
   "outputs": [],
   "source": [
    "import time \n",
    "followers=[]\n",
    "next_max_id=True\n",
    "while next_max_id:\n",
    "    print(next_max_id)\n",
    "    #First iteration hack \n",
    "    if next_max_id == True: next_max_id=''\n",
    "    _ = InstagramAPI.getUsersFollowers(user_id,maxid=next_max_id)\n",
    "    followers.extend(InstagramAPI.LastJson.get('users', []))\n",
    "    next_max_id = InstagramAPI.LastJson.get('next_max_id','')\n",
    "    time.sleep(1)\n",
    "    \n",
    "followers_list=followers\n",
    "                                            "
   ]
  },
  {
   "cell_type": "code",
   "execution_count": null,
   "metadata": {},
   "outputs": [],
   "source": []
  }
 ],
 "metadata": {
  "kernelspec": {
   "display_name": "Python 3",
   "language": "python",
   "name": "python3"
  },
  "language_info": {
   "codemirror_mode": {
    "name": "ipython",
    "version": 3
   },
   "file_extension": ".py",
   "mimetype": "text/x-python",
   "name": "python",
   "nbconvert_exporter": "python",
   "pygments_lexer": "ipython3",
   "version": "3.5.3"
  }
 },
 "nbformat": 4,
 "nbformat_minor": 2
}
